{
 "cells": [
  {
   "cell_type": "code",
   "execution_count": 1,
   "metadata": {},
   "outputs": [],
   "source": [
    "import pandas as pd"
   ]
  },
  {
   "cell_type": "code",
   "execution_count": 2,
   "metadata": {},
   "outputs": [
    {
     "data": {
      "text/html": [
       "<div>\n",
       "<style scoped>\n",
       "    .dataframe tbody tr th:only-of-type {\n",
       "        vertical-align: middle;\n",
       "    }\n",
       "\n",
       "    .dataframe tbody tr th {\n",
       "        vertical-align: top;\n",
       "    }\n",
       "\n",
       "    .dataframe thead th {\n",
       "        text-align: right;\n",
       "    }\n",
       "</style>\n",
       "<table border=\"1\" class=\"dataframe\">\n",
       "  <thead>\n",
       "    <tr style=\"text-align: right;\">\n",
       "      <th></th>\n",
       "      <th>playername</th>\n",
       "      <th>LPER</th>\n",
       "      <th>Difference_From_Top</th>\n",
       "      <th>Difference_From_Average</th>\n",
       "      <th>LPER_normalized</th>\n",
       "      <th>Z-score</th>\n",
       "      <th>Role_Mean</th>\n",
       "      <th>Role_Std</th>\n",
       "      <th>Z-Elo</th>\n",
       "      <th>Z-Elo_Positive</th>\n",
       "    </tr>\n",
       "  </thead>\n",
       "  <tbody>\n",
       "    <tr>\n",
       "      <th>0</th>\n",
       "      <td>Chovy</td>\n",
       "      <td>3521</td>\n",
       "      <td>0</td>\n",
       "      <td>860.519481</td>\n",
       "      <td>1.000000</td>\n",
       "      <td>2.791426</td>\n",
       "      <td>2711.046154</td>\n",
       "      <td>290.157685</td>\n",
       "      <td>2791</td>\n",
       "      <td>4676</td>\n",
       "    </tr>\n",
       "    <tr>\n",
       "      <th>1</th>\n",
       "      <td>Peyz</td>\n",
       "      <td>3725</td>\n",
       "      <td>0</td>\n",
       "      <td>891.451220</td>\n",
       "      <td>1.000000</td>\n",
       "      <td>2.627627</td>\n",
       "      <td>2903.757143</td>\n",
       "      <td>312.541588</td>\n",
       "      <td>2628</td>\n",
       "      <td>4513</td>\n",
       "    </tr>\n",
       "    <tr>\n",
       "      <th>2</th>\n",
       "      <td>Nuguri</td>\n",
       "      <td>3202</td>\n",
       "      <td>-319</td>\n",
       "      <td>662.912500</td>\n",
       "      <td>1.000000</td>\n",
       "      <td>2.281988</td>\n",
       "      <td>2528.555556</td>\n",
       "      <td>295.113103</td>\n",
       "      <td>2282</td>\n",
       "      <td>4167</td>\n",
       "    </tr>\n",
       "    <tr>\n",
       "      <th>3</th>\n",
       "      <td>Aiming</td>\n",
       "      <td>3583</td>\n",
       "      <td>-142</td>\n",
       "      <td>749.451220</td>\n",
       "      <td>0.896047</td>\n",
       "      <td>2.173288</td>\n",
       "      <td>2903.757143</td>\n",
       "      <td>312.541588</td>\n",
       "      <td>2173</td>\n",
       "      <td>4058</td>\n",
       "    </tr>\n",
       "    <tr>\n",
       "      <th>4</th>\n",
       "      <td>Khan</td>\n",
       "      <td>3146</td>\n",
       "      <td>-375</td>\n",
       "      <td>606.912500</td>\n",
       "      <td>0.953833</td>\n",
       "      <td>2.092230</td>\n",
       "      <td>2528.555556</td>\n",
       "      <td>295.113103</td>\n",
       "      <td>2092</td>\n",
       "      <td>3977</td>\n",
       "    </tr>\n",
       "    <tr>\n",
       "      <th>...</th>\n",
       "      <td>...</td>\n",
       "      <td>...</td>\n",
       "      <td>...</td>\n",
       "      <td>...</td>\n",
       "      <td>...</td>\n",
       "      <td>...</td>\n",
       "      <td>...</td>\n",
       "      <td>...</td>\n",
       "      <td>...</td>\n",
       "      <td>...</td>\n",
       "    </tr>\n",
       "    <tr>\n",
       "      <th>206</th>\n",
       "      <td>Pobelter</td>\n",
       "      <td>2240</td>\n",
       "      <td>-1281</td>\n",
       "      <td>-420.480519</td>\n",
       "      <td>0.056006</td>\n",
       "      <td>-1.623414</td>\n",
       "      <td>2711.046154</td>\n",
       "      <td>290.157685</td>\n",
       "      <td>-1623</td>\n",
       "      <td>262</td>\n",
       "    </tr>\n",
       "    <tr>\n",
       "      <th>207</th>\n",
       "      <td>Sniper</td>\n",
       "      <td>2016</td>\n",
       "      <td>-1505</td>\n",
       "      <td>-523.087500</td>\n",
       "      <td>0.022259</td>\n",
       "      <td>-1.736811</td>\n",
       "      <td>2528.555556</td>\n",
       "      <td>295.113103</td>\n",
       "      <td>-1737</td>\n",
       "      <td>148</td>\n",
       "    </tr>\n",
       "    <tr>\n",
       "      <th>208</th>\n",
       "      <td>Lost</td>\n",
       "      <td>2359</td>\n",
       "      <td>-1366</td>\n",
       "      <td>-474.548780</td>\n",
       "      <td>0.000000</td>\n",
       "      <td>-1.742991</td>\n",
       "      <td>2903.757143</td>\n",
       "      <td>312.541588</td>\n",
       "      <td>-1743</td>\n",
       "      <td>142</td>\n",
       "    </tr>\n",
       "    <tr>\n",
       "      <th>209</th>\n",
       "      <td>sOAZ</td>\n",
       "      <td>1989</td>\n",
       "      <td>-1532</td>\n",
       "      <td>-550.087500</td>\n",
       "      <td>0.000000</td>\n",
       "      <td>-1.828301</td>\n",
       "      <td>2528.555556</td>\n",
       "      <td>295.113103</td>\n",
       "      <td>-1828</td>\n",
       "      <td>57</td>\n",
       "    </tr>\n",
       "    <tr>\n",
       "      <th>210</th>\n",
       "      <td>Ablazeolive</td>\n",
       "      <td>2164</td>\n",
       "      <td>-1357</td>\n",
       "      <td>-496.480519</td>\n",
       "      <td>0.000000</td>\n",
       "      <td>-1.885341</td>\n",
       "      <td>2711.046154</td>\n",
       "      <td>290.157685</td>\n",
       "      <td>-1885</td>\n",
       "      <td>0</td>\n",
       "    </tr>\n",
       "  </tbody>\n",
       "</table>\n",
       "<p>211 rows × 10 columns</p>\n",
       "</div>"
      ],
      "text/plain": [
       "      playername  LPER  Difference_From_Top  Difference_From_Average  \\\n",
       "0          Chovy  3521                    0               860.519481   \n",
       "1           Peyz  3725                    0               891.451220   \n",
       "2         Nuguri  3202                 -319               662.912500   \n",
       "3         Aiming  3583                 -142               749.451220   \n",
       "4           Khan  3146                 -375               606.912500   \n",
       "..           ...   ...                  ...                      ...   \n",
       "206     Pobelter  2240                -1281              -420.480519   \n",
       "207       Sniper  2016                -1505              -523.087500   \n",
       "208         Lost  2359                -1366              -474.548780   \n",
       "209         sOAZ  1989                -1532              -550.087500   \n",
       "210  Ablazeolive  2164                -1357              -496.480519   \n",
       "\n",
       "     LPER_normalized   Z-score    Role_Mean    Role_Std  Z-Elo  Z-Elo_Positive  \n",
       "0           1.000000  2.791426  2711.046154  290.157685   2791            4676  \n",
       "1           1.000000  2.627627  2903.757143  312.541588   2628            4513  \n",
       "2           1.000000  2.281988  2528.555556  295.113103   2282            4167  \n",
       "3           0.896047  2.173288  2903.757143  312.541588   2173            4058  \n",
       "4           0.953833  2.092230  2528.555556  295.113103   2092            3977  \n",
       "..               ...       ...          ...         ...    ...             ...  \n",
       "206         0.056006 -1.623414  2711.046154  290.157685  -1623             262  \n",
       "207         0.022259 -1.736811  2528.555556  295.113103  -1737             148  \n",
       "208         0.000000 -1.742991  2903.757143  312.541588  -1743             142  \n",
       "209         0.000000 -1.828301  2528.555556  295.113103  -1828              57  \n",
       "210         0.000000 -1.885341  2711.046154  290.157685  -1885               0  \n",
       "\n",
       "[211 rows x 10 columns]"
      ]
     },
     "execution_count": 2,
     "metadata": {},
     "output_type": "execute_result"
    }
   ],
   "source": [
    "df = pd.read_csv('merged_LPER.csv')\n",
    "df"
   ]
  },
  {
   "cell_type": "code",
   "execution_count": 8,
   "metadata": {},
   "outputs": [
    {
     "data": {
      "text/plain": [
       "12688"
      ]
     },
     "execution_count": 8,
     "metadata": {},
     "output_type": "execute_result"
    }
   ],
   "source": [
    "GENG = df[df['playername'].isin(['Kiin', 'Canyon', 'Chovy', 'Peyz', 'Lehends'])]['Z-Elo_Positive'].sum()\n",
    "GENG"
   ]
  },
  {
   "cell_type": "code",
   "execution_count": 9,
   "metadata": {},
   "outputs": [
    {
     "data": {
      "text/plain": [
       "10739"
      ]
     },
     "execution_count": 9,
     "metadata": {},
     "output_type": "execute_result"
    }
   ],
   "source": [
    "T1 = df[df['playername'].isin(['Zeus', 'Oner', 'Faker', 'Gumayusi', 'Keria'])]['Z-Elo_Positive'].sum()\n",
    "T1"
   ]
  },
  {
   "cell_type": "code",
   "execution_count": 10,
   "metadata": {},
   "outputs": [
    {
     "data": {
      "text/plain": [
       "11288"
      ]
     },
     "execution_count": 10,
     "metadata": {},
     "output_type": "execute_result"
    }
   ],
   "source": [
    "HLE = df[df['playername'].isin(['Doran', 'Peanut', 'Zeka', 'Viper', 'Delight'])]['Z-Elo_Positive'].sum()\n",
    "HLE"
   ]
  },
  {
   "cell_type": "code",
   "execution_count": 11,
   "metadata": {},
   "outputs": [
    {
     "data": {
      "text/plain": [
       "10924"
      ]
     },
     "execution_count": 11,
     "metadata": {},
     "output_type": "execute_result"
    }
   ],
   "source": [
    "DK = df[df['playername'].isin(['Kingen', 'Lucid', 'ShowMaker', 'Aiming', 'Kellin'])]['Z-Elo_Positive'].sum()\n",
    "DK"
   ]
  },
  {
   "cell_type": "code",
   "execution_count": null,
   "metadata": {},
   "outputs": [
    {
     "data": {
      "text/plain": [
       "9715"
      ]
     },
     "execution_count": 13,
     "metadata": {},
     "output_type": "execute_result"
    }
   ],
   "source": [
    "KT = df[df['playername'].isin(['PerfecT', 'Pyosik', 'Bdd', 'Deft', 'BeryL'])]['Z-Elo_Positive'].sum()\n",
    "KT"
   ]
  }
 ],
 "metadata": {
  "kernelspec": {
   "display_name": "base",
   "language": "python",
   "name": "python3"
  },
  "language_info": {
   "codemirror_mode": {
    "name": "ipython",
    "version": 3
   },
   "file_extension": ".py",
   "mimetype": "text/x-python",
   "name": "python",
   "nbconvert_exporter": "python",
   "pygments_lexer": "ipython3",
   "version": "3.12.2"
  }
 },
 "nbformat": 4,
 "nbformat_minor": 2
}
